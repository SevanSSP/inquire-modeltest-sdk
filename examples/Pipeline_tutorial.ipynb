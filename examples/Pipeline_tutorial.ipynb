{
  "nbformat": 4,
  "nbformat_minor": 0,
  "metadata": {
    "colab": {
      "name": "Pipeline_tutorial.ipynb",
      "provenance": []
    },
    "kernelspec": {
      "name": "python3",
      "display_name": "Python 3"
    }
  },
  "cells": [
    {
      "cell_type": "markdown",
      "metadata": {
        "id": "1Rc1ZApR-65f",
        "colab_type": "text"
      },
      "source": [
        "# How to create a pipeline\n",
        "\n",
        "This is a short intro to importing data from a local placement on your computer to the modeltest database. The process requires some manual work and must be adapted to each individual campaign. \n",
        "\n",
        "### STEP 1:\n",
        "\n",
        "Initiate client"
      ]
    },
    {
      "cell_type": "code",
      "metadata": {
        "id": "a6MTbiTpBBWC",
        "colab_type": "code",
        "colab": {}
      },
      "source": [
        "client = SDKclient()"
      ],
      "execution_count": null,
      "outputs": []
    },
    {
      "cell_type": "markdown",
      "metadata": {
        "id": "1mhcDwx6BCFw",
        "colab_type": "text"
      },
      "source": [
        "### STEP 2:\n",
        "\n",
        "Create the campaign with manual data insertion."
      ]
    },
    {
      "cell_type": "code",
      "metadata": {
        "id": "wBxVlxlw-t9z",
        "colab_type": "code",
        "colab": {}
      },
      "source": [
        "campaign = client.campaign.create(name=campaign_dir.split(\"/\")[-1],\n",
        "                                      description=\"Modeltest for SWACH\",\n",
        "                                      date=get_datetime_date(\"180120120000\"),\n",
        "                                      location=\"STADT TOWING TANK\",\n",
        "                                      waterline_diameter=70, \n",
        "                                      scale_factor=75,\n",
        "                                      water_density=1025, \n",
        "                                      water_depth=4.1 * 75,\n",
        "                                      transient=3 * 60 * 60)"
      ],
      "execution_count": null,
      "outputs": []
    },
    {
      "cell_type": "markdown",
      "metadata": {
        "id": "4me4n4tOATWv",
        "colab_type": "text"
      },
      "source": [
        "### STEP 3:\n",
        "\n",
        "Add all sensors with manual data insertion.\n",
        "This requires lookup of all data for all sensors. The following example is one of many sensor imports."
      ]
    },
    {
      "cell_type": "code",
      "metadata": {
        "id": "9_YRpZGiAsHb",
        "colab_type": "code",
        "colab": {}
      },
      "source": [
        "client.sensor.create(name='Wave 3 Front Slot 7 AI2-AI10',\n",
        "                         description='Wave front - C',\n",
        "                         unit='mm',\n",
        "                         kind='length',\n",
        "                         x=(1925/1000)*75,\n",
        "                         y=(370/1000)*75,\n",
        "                         z=None,\n",
        "                         is_local=True,\n",
        "                         campaign_id=campaign.id)"
      ],
      "execution_count": null,
      "outputs": []
    },
    {
      "cell_type": "markdown",
      "metadata": {
        "id": "XyPU6UOCBiSX",
        "colab_type": "text"
      },
      "source": [
        "### STEP 4a:\n",
        "\n",
        "Set file location and concepts for import"
      ]
    },
    {
      "cell_type": "code",
      "metadata": {
        "id": "XcPDPztFBznw",
        "colab_type": "code",
        "colab": {}
      },
      "source": [
        "import os\n",
        "\n",
        "campaign_dir = \"C:/Users/hly/Documents/STT\"\n",
        "concept_ids = [\"M206\", \"M207\"]"
      ],
      "execution_count": null,
      "outputs": []
    },
    {
      "cell_type": "markdown",
      "metadata": {
        "id": "KGPG0VjaFSCA",
        "colab_type": "text"
      },
      "source": [
        "### STEP 4b:\n",
        "\n",
        "Locate and open all wind current calibration in file structure. Each file structure is unique, same for file names. In the following example, wave current calibrations are imported with the test info gathered from either filename or the file itself. "
      ]
    },
    {
      "cell_type": "code",
      "metadata": {
        "id": "Rl06K_ajFery",
        "colab_type": "code",
        "colab": {}
      },
      "source": [
        "os.chdir(campaign_dir)\n",
        "os.chdir(os.getcwd() + \"\\\\\" + \"WaveCalib\")\n",
        "calibs = os.listdir(path='.')\n",
        "for calib in calibs:\n",
        "    # find wave spectrum and wave height+period\n",
        "    wave_spectrum = calib.split(\"_\")[0]\n",
        "    if wave_spectrum == \"Irreg\":\n",
        "        wave_spectrum = \"jonswap\"  # jonswap er forsøkt tilnærmet i SWACH testene\n",
        "    if wave_spectrum == \"Reg\":\n",
        "        wave_spectrum = \"regular\"\n",
        "    wave_height = calib.split(\"_\")[1]\n",
        "    wave_height = float(wave_height.split(\"s\")[1])\n",
        "    wave_period = calib.split(\"_\")[2]\n",
        "    wave_period = float(wave_period.split(\"p\")[1])\n",
        "    gamma = find_gamma(wave_height, wave_period)\n",
        "\n",
        "    # find test date and time\n",
        "    os.chdir(os.getcwd() + \"\\\\\" + calib)\n",
        "    times = os.listdir(path='.')\n",
        "    date = times[0].split(\" \")[1]\n",
        "    timestamp = times[0].split(\" \")[2]\n",
        "    date_time = date + timestamp\n",
        "\n",
        "    wave_current_calibration = client.wave_current_calibration.create(description=calib,\n",
        "                                                                      test_date=get_datetime_date(date_time),\n",
        "                                                                      campaign_id=campaign.id,\n",
        "                                                                      wave_spectrum=wave_spectrum,\n",
        "                                                                      wave_period=wave_period,\n",
        "                                                                      wave_height=wave_height,\n",
        "                                                                      gamma=gamma,\n",
        "                                                                      wave_direction=0,\n",
        "                                                                      current_velocity=0,\n",
        "                                                                      current_direction=0)\n",
        "\n",
        "    for time in times:\n",
        "        os.chdir(os.getcwd() + \"\\\\\" + time)\n",
        "        files = [os.getcwd() + \"\\\\\" + x for x in os.listdir(path='.') if x.split(\" \")[0] == time.split(\" \")[0]]\n",
        "        for file in files:\n",
        "\n",
        "            # NOTE: THIS FUNCTION READS AND IMPORTS TIMESERIES\n",
        "            read_datapoints_from_csv_with_pandas(file=file, test_id=wave_current_calibration.id,client=client)\n",
        "        os.chdir(get_parent_dir(os.getcwd()))\n",
        "    os.chdir(get_parent_dir(os.getcwd()))"
      ],
      "execution_count": null,
      "outputs": []
    },
    {
      "cell_type": "markdown",
      "metadata": {
        "id": "UfVKW0N6Fe4q",
        "colab_type": "text"
      },
      "source": [
        "### STEP 4c:\n",
        "\n",
        "Locate and open all wind current calibration in file structure. Each file structure is unique, same for file names. In the following example, wave current calibrations are imported with the test info gathered from either filename or the file itself. \n",
        "\n",
        "Notice the add_floater_test function, whic is step 5"
      ]
    },
    {
      "cell_type": "code",
      "metadata": {
        "id": "E0WRlf6gFH33",
        "colab_type": "code",
        "colab": {}
      },
      "source": [
        "os.chdir(campaign_dir)\n",
        "for concept_id in concept_ids:\n",
        "    os.chdir(campaign_dir + \"\\\\\" + concept_id)\n",
        "    tests = os.listdir(path='.')\n",
        "    for test in tests:\n",
        "        os.chdir(os.getcwd() + \"\\\\\" + test)\n",
        "        times = [x for x in os.listdir(path='.') if os.path.isdir(x)]\n",
        "        date = times[0].split(\" \")[1]  # Fetch the date from directory name\n",
        "        timestamp = times[0].split(\" \")[2]\n",
        "        date_time = date + timestamp\n",
        "        for time in times:\n",
        "            os.chdir(os.getcwd() + \"\\\\\" + time)\n",
        "            files = [os.getcwd() + \"\\\\\" + x for x in os.listdir(path='.') if\n",
        "                      x.split(\" \")[0] == test]  # Only add to test files if start with test name\n",
        "\n",
        "            floater_test = add_floater_test(files=files,\n",
        "                                            campaign=campaign,\n",
        "                                            testname=test,\n",
        "                                            date=get_datetime_date(date_time),\n",
        "                                            concept_id=concept_id, client=client)\n",
        "\n",
        "            os.chdir(get_parent_dir(os.getcwd()))\n",
        "        os.chdir(get_parent_dir(os.getcwd()))\n",
        "    os.chdir(get_parent_dir(os.getcwd()))"
      ],
      "execution_count": null,
      "outputs": []
    },
    {
      "cell_type": "markdown",
      "metadata": {
        "id": "JWgk3K2tsOXY",
        "colab_type": "text"
      },
      "source": [
        "### STEP 5:\n",
        "\n",
        "Import all floater tests, and add relevant data for given test. \n",
        "In the future the individual tests will also have a concept id connected to them, and so this will need to be added in pipeline."
      ]
    },
    {
      "cell_type": "code",
      "metadata": {
        "id": "-HUv7zcVsO1c",
        "colab_type": "code",
        "colab": {}
      },
      "source": [
        "orientation = 0  # for alle i SWACH\n",
        "if concept_id == \"M206\":\n",
        "    draft = 29.5  # Fra Specs\n",
        "if concept_id == \"M207\":\n",
        "    draft = 18\n",
        "\n",
        "x = testname.split(\"_\")[0]\n",
        "# hardkoding av category basert på filnavn\n",
        "if x == \"waveReg\":\n",
        "    category = \"regular wave\"\n",
        "elif x == \"waveIrreg\":\n",
        "    category = \"irregular wave\"\n",
        "elif x[0:3] == \"X30\" or x[0:3] == \"Y30\" or x[0:3] == \"X20\" or x[0:3] == \"Y20\":\n",
        "    category = \"decay\"\n",
        "elif x[0:3] == \"X10\":\n",
        "    category = \"pull out\"\n",
        "try:\n",
        "    wave_id = client.wave_current_calibration.get_id(waveCalibDict[testname])\n",
        "except:\n",
        "    wave_id = None\n",
        "\n",
        "floater_test = client.floater.create(description=testname,\n",
        "                                      test_date=date,\n",
        "                                      campaign_id=campaign.id,\n",
        "                                      # measured_hs=10,  # en random verdi\n",
        "                                      # measured_tp=13,  # en random verdi\n",
        "                                      category=category,\n",
        "                                      orientation=orientation,\n",
        "                                      draft=draft,\n",
        "                                      wave_id=wave_id,\n",
        "                                      wind_id=None)\n",
        "\n",
        "for file in files:\n",
        "    read_datapoints_from_csv_with_pandas(file=file, test_id=floater_test.id, client=client)"
      ],
      "execution_count": null,
      "outputs": []
    },
    {
      "cell_type": "markdown",
      "metadata": {
        "id": "-EJxdhPDsr4C",
        "colab_type": "text"
      },
      "source": [
        "### STEP 6:\n",
        "\n",
        "Function to read datapoints for a given file and import them. Final part of the import"
      ]
    },
    {
      "cell_type": "code",
      "metadata": {
        "id": "FabTzwNus4Ec",
        "colab_type": "code",
        "colab": {}
      },
      "source": [
        "def str_to_datetime(s):\n",
        "    if len(s) == 8:\n",
        "        hour = int(s[0:2])\n",
        "        min = int(s[3:5])\n",
        "        sec = int(s[6:8])\n",
        "        return datetime.datetime(year=1900, month=1, day=1, hour=hour, minute=min, second=sec)\n",
        "    else:\n",
        "        hour = int(s[0:2])\n",
        "        min = int(s[3:5])\n",
        "        sec = int(s[6:8])\n",
        "        ms = int(s[9:15])\n",
        "        return datetime.datetime(year=1900, month=1, day=1, hour=hour, minute=min, second=sec, microsecond=ms)\n",
        "\n",
        "\n",
        "def read_datapoints_from_csv_with_pandas(file, test_id, client: SDKclient):\n",
        "    df = pd.read_csv(file, sep=';')\n",
        "\n",
        "    col_names = list(df.columns)\n",
        "    for sensor in col_names[1:]:\n",
        "        sensor_strip = sensor.strip()\n",
        "        tic = timer.perf_counter()\n",
        "        sensor_id = client.sensor.get_id(sensor_strip)\n",
        "        timeseries = client.timeseries.create(sensor_id=sensor_id,\n",
        "                                              test_id=test_id)\n",
        "        datapoints = df[[col_names[0], sensor]].values.tolist()\n",
        "        start_time, start_value = datapoints[0]\n",
        "\n",
        "        start_time = str_to_datetime(start_time)\n",
        "\n",
        "        for time, value in datapoints:\n",
        "            if pd.isna(value):\n",
        "                continue\n",
        "            time_point = str_to_datetime(time)\n",
        "\n",
        "            datapoint = DataPoint(timeseries_id=timeseries.id,\n",
        "                                  time=(time_point - start_time).total_seconds(),\n",
        "                                  value=value,\n",
        "                                  client=client)\n",
        "            timeseries.data_points.append(datapoint)\n",
        "        timeseries.post_data_points()\n",
        "        toc = timer.perf_counter()\n",
        "        print(f\"Posting timeseries for sensor {sensor} in file {file} took  {toc - tic:0.4f} seconds\")\n"
      ],
      "execution_count": null,
      "outputs": []
    }
  ]
}