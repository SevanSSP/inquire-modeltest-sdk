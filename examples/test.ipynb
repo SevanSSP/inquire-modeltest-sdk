{
  "nbformat": 4,
  "nbformat_minor": 0,
  "metadata": {
    "colab": {
      "name": "testSDK.ipynb",
      "provenance": []
    },
    "kernelspec": {
      "name": "python3",
      "display_name": "Python 3"
    }
  },
  "cells": [
    {
      "cell_type": "code",
      "metadata": {
        "id": "Dnad2ckJRVd5",
        "colab_type": "code",
        "colab": {}
      },
      "source": [
        "!pip install modeltestSDK -i https://api.packagr.app/EYvhW6SyL/\n"
      ],
      "execution_count": null,
      "outputs": []
    },
    {
      "cell_type": "code",
      "metadata": {
        "id": "le4BRL_cULAE",
        "colab_type": "code",
        "colab": {}
      },
      "source": [
        "from modeltestSDK import SDKclient, Campaign\n",
        "import time\n",
        "\n",
        "client = SDKclient()\n",
        "campaign = client.campaign.get(id=\"3b891863-3cb1-4bf8-8582-49a15c5a2e65\")\n",
        "testsList = campaign.get_tests()\n",
        "sensors = campaign.get_sensors()\n",
        "\n",
        "time1 = time.time()\n",
        "\n",
        "lst = []\n",
        "for test in testsList:\n",
        "    time1 = time.time()\n",
        "    lst.append(test.get_timeseries())\n",
        "    time2 = time.time()\n",
        "    full_time = (time2 - time1) * 1000.0\n",
        "    print(f'function took {full_time} milliseconds')\n",
        "\n",
        "for timeseriesList in lst:\n",
        "    print(timeseriesList)\n",
        "    for ts in timeseriesList:\n",
        "        time1 = time.time()\n",
        "        ts.get_data_points()\n",
        "        print(len(ts.data_points), \"LEN\")\n",
        "        time2 = time.time()\n",
        "        full_time = (time2 - time1) * 1000.0\n",
        "        print(f'function took {full_time} milliseconds')\n",
        "\n",
        "\n",
        "time2 = time.time()\n",
        "\n",
        "full_time = (time2 - time1) * 1000.0"
      ],
      "execution_count": null,
      "outputs": []
    }
  ]
}
