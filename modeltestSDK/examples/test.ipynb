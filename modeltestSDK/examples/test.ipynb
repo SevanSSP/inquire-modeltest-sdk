{
 "cells": [
  {
   "cell_type": "code",
   "execution_count": null,
   "metadata": {
    "colab": {},
    "colab_type": "code",
    "id": "Dnad2ckJRVd5"
   },
   "outputs": [],
   "source": [
    "import sys\n",
    "!{sys.executable} -m pip install modeltestSDK -i https://api.packagr.app/EYvhW6SyL/"
   ]
  },
  {
   "cell_type": "code",
   "execution_count": null,
   "metadata": {
    "colab": {},
    "colab_type": "code",
    "id": "le4BRL_cULAE"
   },
   "outputs": [],
   "source": [
    "from modeltestSDK import SDKclient, Campaign\n",
    "import time\n",
    "\n",
    "client = SDKclient()\n",
    "campaign = client.campaign.get(id=\"3b891863-3cb1-4bf8-8582-49a15c5a2e65\")\n",
    "testsList = campaign.get_tests()\n",
    "sensors = campaign.get_sensors()\n",
    "\n",
    "time1 = time.time()\n",
    "\n",
    "lst = []\n",
    "for test in testsList:\n",
    "    time1 = time.time()\n",
    "    lst.append(test.get_timeseries())\n",
    "    time2 = time.time()\n",
    "    full_time = (time2 - time1) * 1000.0\n",
    "    print(f'function took {full_time} milliseconds')\n",
    "\n",
    "for timeseriesList in lst:\n",
    "    print(timeseriesList)\n",
    "    for ts in timeseriesList:\n",
    "        time1 = time.time()\n",
    "        ts.get_data_points()\n",
    "        print(len(ts.data_points), \"LEN\")\n",
    "        time2 = time.time()\n",
    "        full_time = (time2 - time1) * 1000.0\n",
    "        print(f'function took {full_time} milliseconds')\n",
    "\n",
    "\n",
    "time2 = time.time()\n",
    "\n",
    "full_time = (time2 - time1) * 1000.0"
   ]
  },
  {
   "cell_type": "code",
   "execution_count": null,
   "metadata": {},
   "outputs": [],
   "source": []
  },
  {
   "cell_type": "code",
   "execution_count": null,
   "metadata": {},
   "outputs": [],
   "source": []
  },
  {
   "cell_type": "code",
   "execution_count": null,
   "metadata": {},
   "outputs": [],
   "source": []
  },
  {
   "cell_type": "code",
   "execution_count": null,
   "metadata": {},
   "outputs": [],
   "source": []
  }
 ],
 "metadata": {
  "colab": {
   "name": "testSDK.ipynb",
   "provenance": []
  },
  "kernelspec": {
   "display_name": "Python 3",
   "language": "python",
   "name": "python3"
  },
  "language_info": {
   "codemirror_mode": {
    "name": "ipython",
    "version": 3
   },
   "file_extension": ".py",
   "mimetype": "text/x-python",
   "name": "python",
   "nbconvert_exporter": "python",
   "pygments_lexer": "ipython3",
   "version": "3.7.6"
  }
 },
 "nbformat": 4,
 "nbformat_minor": 4
}
